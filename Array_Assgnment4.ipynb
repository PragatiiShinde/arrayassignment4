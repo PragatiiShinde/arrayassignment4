{
 "cells": [
  {
   "cell_type": "markdown",
   "id": "67e97f22",
   "metadata": {},
   "source": [
    "Question 1\n",
    "Given three integer arrays arr1, arr2 and arr3 sorted in strictly increasing order, return a sorted array of only the integers that appeared in all three arrays.\n"
   ]
  },
  {
   "cell_type": "code",
   "execution_count": 5,
   "id": "015f562a",
   "metadata": {},
   "outputs": [
    {
     "name": "stdout",
     "output_type": "stream",
     "text": [
      "Common elements are\n",
      "1\n",
      "5\n"
     ]
    }
   ],
   "source": [
    "def findCommon(ar1, ar2, ar3, n1, n2, n3):\n",
    " \n",
    "    # Initialize starting indexes for ar1[], ar2[] and ar3[]\n",
    "    i, j, k = 0, 0, 0\n",
    " \n",
    "    # Iterate through three arrays while all arrays have elements\n",
    "    while (i < n1 and j < n2 and k < n3):\n",
    " \n",
    "        # If x = y and y = z, print any of them and move ahead\n",
    "        # in all arrays\n",
    "        if (ar1[i] == ar2[j] and ar2[j] == ar3[k]):\n",
    "            print(ar1[i]),\n",
    "            i += 1\n",
    "            j += 1\n",
    "            k += 1\n",
    " \n",
    "        # x < y\n",
    "        elif ar1[i] < ar2[j]:\n",
    "            i += 1\n",
    " \n",
    "        # y < z\n",
    "        elif ar2[j] < ar3[k]:\n",
    "            j += 1\n",
    " \n",
    "        # We reach here when x > y and z < y, i.e., z is smallest\n",
    "        else:\n",
    "            k += 1\n",
    " \n",
    " \n",
    "# Driver program to check above function\n",
    "ar1 = [1,2,3,4,5]\n",
    "ar2 = [1,2,5,7,9]\n",
    "ar3 = [1,3,4,5,8]\n",
    "n1 = len(ar1)\n",
    "n2 = len(ar2)\n",
    "n3 = len(ar3)\n",
    "print(\"Common elements are\")\n",
    "findCommon(ar1, ar2, ar3, n1, n2, n3)"
   ]
  },
  {
   "cell_type": "markdown",
   "id": "e2b03e6b",
   "metadata": {},
   "source": [
    "*Question 3**\n",
    "Given a 2D integer array matrix, return *the **transpose** of* matrix.\n",
    "\n",
    "The **transpose** of a matrix is the matrix flipped over its main diagonal, switching the matrix's row and column indices.\n",
    "\n",
    "</aside>"
   ]
  },
  {
   "cell_type": "code",
   "execution_count": 7,
   "id": "87fb56e9",
   "metadata": {},
   "outputs": [
    {
     "name": "stdout",
     "output_type": "stream",
     "text": [
      "Result matrix is\n",
      "1  4  7  \n",
      "2  5  8  \n",
      "3  6  9  \n"
     ]
    }
   ],
   "source": [
    "N = 3\n",
    "  \n",
    "# This function stores\n",
    "# transpose of A[][] in B[][]\n",
    "  \n",
    "  \n",
    "def transpose(A, B):\n",
    "  \n",
    "    for i in range(N):\n",
    "        for j in range(N):\n",
    "            B[i][j] = A[j][i]\n",
    "  \n",
    "  \n",
    "# Driver code\n",
    "if __name__ == '__main__':\n",
    "  A = [[1,2,3],[4,5,6],[7,8,9]]\n",
    "  \n",
    "  \n",
    "  # To store result\n",
    "  B = [[0 for x in range(N)] for y in range(N)]\n",
    "  \n",
    "  # Function call\n",
    "  transpose(A, B)\n",
    "  \n",
    "  print(\"Result matrix is\")\n",
    "  for i in range(N):\n",
    "      for j in range(N):\n",
    "          print(B[i][j], \" \", end='')\n",
    "      print()"
   ]
  },
  {
   "cell_type": "markdown",
   "id": "f5d2a2b6",
   "metadata": {},
   "source": [
    "Question 4\n",
    "Given an integer array nums of 2n integers, group these integers into n pairs (a1, b1), (a2, b2), ..., (an, bn) such that the sum of min(ai, bi) for all i is maximized. Return the maximized sum."
   ]
  },
  {
   "cell_type": "code",
   "execution_count": 10,
   "id": "bdadd361",
   "metadata": {},
   "outputs": [
    {
     "data": {
      "text/plain": [
       "4"
      ]
     },
     "execution_count": 10,
     "metadata": {},
     "output_type": "execute_result"
    }
   ],
   "source": [
    "from typing import List\n",
    "def arrayPairSum(nums: List[int]) -> int:\n",
    "    nums_sort = sorted(nums)\n",
    "    res = 0\n",
    "    i = 0\n",
    "    while i < len(nums):\n",
    "        res += nums_sort[i]\n",
    "        i += 2\n",
    "    return res\n",
    "nums = [1,4,3,2]\n",
    "arrayPairSum(nums)\n"
   ]
  },
  {
   "cell_type": "markdown",
   "id": "af1046ba",
   "metadata": {},
   "source": [
    "Question 5**\n",
    "You have n coins and you want to build a staircase with these coins. The staircase consists of k rows where the ith row has exactly i coins. The last row of the staircase **may be** incomplete.\n",
    "\n",
    "Given the integer n, return *the number of **complete rows** of the staircase you will build*.\n",
    "\n",
    "</aside>"
   ]
  },
  {
   "cell_type": "code",
   "execution_count": 13,
   "id": "f5c9e8e0",
   "metadata": {},
   "outputs": [
    {
     "name": "stdout",
     "output_type": "stream",
     "text": [
      "number of complete rows of the staircase: 2\n"
     ]
    }
   ],
   "source": [
    "import math\n",
    "\n",
    "class Solution:\n",
    "    def arrangeCoins(self, n: int) -> int:\n",
    "        return int((math.sqrt(n * 8 + 1) - 1) / 2)\n",
    "ob1 = Solution()\n",
    "n=5\n",
    "print(\"number of complete rows of the staircase:\",ob1.arrangeCoins(n))"
   ]
  },
  {
   "cell_type": "markdown",
   "id": "2fa18474",
   "metadata": {},
   "source": [
    "Question 6\n",
    "Given an integer array nums sorted in non-decreasing order, return an array of the squares of each number sorted in non-decreasing order."
   ]
  },
  {
   "cell_type": "code",
   "execution_count": 14,
   "id": "f332520f",
   "metadata": {},
   "outputs": [
    {
     "name": "stdout",
     "output_type": "stream",
     "text": [
      "Before sort\n",
      "-4 -1 0 3 10 \n",
      "\n",
      "After sort\n",
      "0 1 9 16 100 "
     ]
    }
   ],
   "source": [
    "def sortSquare(arr, n):\n",
    " \n",
    "    # First convert each array\n",
    "    # elements into its square\n",
    "    for i in range(n):\n",
    "        arr[i]= arr[i] * arr[i]\n",
    "    arr.sort()\n",
    " \n",
    "# Driver code\n",
    "arr = [-4,-1,0,3,10]\n",
    "n = len(arr)\n",
    " \n",
    "print(\"Before sort\")\n",
    "for i in range(n):\n",
    "    print(arr[i], end = \" \")\n",
    " \n",
    "print(\"\\n\")\n",
    " \n",
    "sortSquare(arr, n)\n",
    " \n",
    "print(\"After sort\")\n",
    "for i in range(n):\n",
    "    print(arr[i], end = \" \")"
   ]
  },
  {
   "cell_type": "markdown",
   "id": "f0b775ac",
   "metadata": {},
   "source": [
    "Question 8**\n",
    "\n",
    "Given the array nums consisting of 2n elements in the form [x1,x2,...,xn,y1,y2,...,yn].\n",
    "\n",
    "*Return the array in the form* [x1,y1,x2,y2,...,xn,yn].\n",
    "\n",
    "</aside>"
   ]
  },
  {
   "cell_type": "code",
   "execution_count": 18,
   "id": "f6e716e3",
   "metadata": {},
   "outputs": [
    {
     "name": "stdout",
     "output_type": "stream",
     "text": [
      "2 3 5 4 1 7 "
     ]
    }
   ],
   "source": [
    "def shuffleArray(a, n):\n",
    " \n",
    "    # Rotate the element to the left\n",
    "    i, q, k = 0, 1, n\n",
    "    while(i < n):    \n",
    "        j = k\n",
    "        while(j > i + q):\n",
    "            a[j - 1], a[j] = a[j], a[j - 1]\n",
    "            j -= 1\n",
    "        i += 1\n",
    "        k += 1\n",
    "        q += 1\n",
    " \n",
    "# Driver Code\n",
    "a = [2,5,1,3,4,7]\n",
    "n = len(a)\n",
    "shuffleArray(a, int(n / 2))\n",
    "for i in range(0, n):\n",
    "    print(a[i], end = \" \")"
   ]
  },
  {
   "cell_type": "code",
   "execution_count": null,
   "id": "eb30fa78",
   "metadata": {},
   "outputs": [],
   "source": []
  }
 ],
 "metadata": {
  "kernelspec": {
   "display_name": "Python 3 (ipykernel)",
   "language": "python",
   "name": "python3"
  },
  "language_info": {
   "codemirror_mode": {
    "name": "ipython",
    "version": 3
   },
   "file_extension": ".py",
   "mimetype": "text/x-python",
   "name": "python",
   "nbconvert_exporter": "python",
   "pygments_lexer": "ipython3",
   "version": "3.9.7"
  }
 },
 "nbformat": 4,
 "nbformat_minor": 5
}
